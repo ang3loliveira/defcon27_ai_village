{
 "cells": [
  {
   "cell_type": "code",
   "execution_count": 1,
   "metadata": {},
   "outputs": [],
   "source": [
    "import numpy as np\n",
    "import os\n",
    "import math\n",
    "from PIL import Image\n",
    "import pandas as pd\n",
    "import matplotlib.pyplot as plt\n",
    "%matplotlib inline\n",
    "\n",
    "import pandas as pd"
   ]
  },
  {
   "cell_type": "code",
   "execution_count": 27,
   "metadata": {},
   "outputs": [],
   "source": [
    "def get_largest_factor(x):\n",
    "    factors = []\n",
    "    for n in range(2, int(math.ceil(math.sqrt(x)))):\n",
    "        if x % n == 0:\n",
    "            factors.append(n)\n",
    "    return max(factors)"
   ]
  },
  {
   "cell_type": "code",
   "execution_count": 29,
   "metadata": {
    "scrolled": true
   },
   "outputs": [
    {
     "name": "stdout",
     "output_type": "stream",
     "text": [
      "(1716, 2048)\n",
      "(1024, 1)\n"
     ]
    },
    {
     "data": {
      "text/plain": [
       "<matplotlib.image.AxesImage at 0x7f883ce74650>"
      ]
     },
     "execution_count": 29,
     "metadata": {},
     "output_type": "execute_result"
    },
    {
     "data": {
      "image/png": "[encoded data removed]",
      "text/plain": [
       "<matplotlib.figure.Figure at 0x7f884877fd50>"
      ]
     },
     "metadata": {
      "needs_background": "light"
     },
     "output_type": "display_data"
    }
   ],
   "source": [
    "filename = 'ed01ebfbc9eb5bbea545af4d01bf5f1071661840480439c6e5babe8e080e41aa.exe'\n",
    "\n",
    "file_size = os.path.getsize(filename)\n",
    "h = get_largest_factor(file_size)\n",
    "w = file_size / h\n",
    "\n",
    "with open(filename, mode = 'rb') as f:\n",
    "    d = np.fromfile(f, dtype = np.uint8, count = file_size).reshape(h, w)\n",
    "    \n",
    "print(d.shape)\n",
    "    \n",
    "PILimage = Image.fromarray(d)\n",
    "\n",
    "image = PILimage.resize((32, 32), Image.NEAREST)  \n",
    "\n",
    "image.save('result_1.jpg')\n",
    "\n",
    "pix = np.array(image)\n",
    "pix = pix.reshape(-1, 1)\n",
    "print(pix.shape)\n",
    "\n",
    "with open('malware_images.csv', mode = 'w') as f:\n",
    "    f.write('hash' + ',')\n",
    "    for i in range(pix.shape[0]):\n",
    "        f.write(str(i) + ',')\n",
    "    f.write('malware' + '\\n')\n",
    "    f.write(filename + ',')\n",
    "    for i in range(pix.shape[0]):\n",
    "        f.write(str(int(pix[i])) + ',')\n",
    "    f.write('1' + '\\n')\n",
    "\n",
    "pix = np.array(image)\n",
    "plt.imshow(pix, cmap = 'gray', vmin = 0, vmax = 255)"
   ]
  },
  {
   "cell_type": "code",
   "execution_count": 30,
   "metadata": {},
   "outputs": [],
   "source": [
    "df = pd.read_csv('malware_images.csv')"
   ]
  },
  {
   "cell_type": "code",
   "execution_count": 31,
   "metadata": {
    "scrolled": true
   },
   "outputs": [
    {
     "data": {
      "text/html": [
       "<div>\n",
       "<style scoped>\n",
       "    .dataframe tbody tr th:only-of-type {\n",
       "        vertical-align: middle;\n",
       "    }\n",
       "\n",
       "    .dataframe tbody tr th {\n",
       "        vertical-align: top;\n",
       "    }\n",
       "\n",
       "    .dataframe thead th {\n",
       "        text-align: right;\n",
       "    }\n",
       "</style>\n",
       "<table border=\"1\" class=\"dataframe\">\n",
       "  <thead>\n",
       "    <tr style=\"text-align: right;\">\n",
       "      <th></th>\n",
       "      <th>hash</th>\n",
       "      <th>0</th>\n",
       "      <th>1</th>\n",
       "      <th>2</th>\n",
       "      <th>3</th>\n",
       "      <th>4</th>\n",
       "      <th>5</th>\n",
       "      <th>6</th>\n",
       "      <th>7</th>\n",
       "      <th>8</th>\n",
       "      <th>...</th>\n",
       "      <th>1015</th>\n",
       "      <th>1016</th>\n",
       "      <th>1017</th>\n",
       "      <th>1018</th>\n",
       "      <th>1019</th>\n",
       "      <th>1020</th>\n",
       "      <th>1021</th>\n",
       "      <th>1022</th>\n",
       "      <th>1023</th>\n",
       "      <th>malware</th>\n",
       "    </tr>\n",
       "  </thead>\n",
       "  <tbody>\n",
       "    <tr>\n",
       "      <th>0</th>\n",
       "      <td>ed01ebfbc9eb5bbea545af4d01bf5f1071661840480439...</td>\n",
       "      <td>77</td>\n",
       "      <td>14</td>\n",
       "      <td>224</td>\n",
       "      <td>164</td>\n",
       "      <td>65</td>\n",
       "      <td>4</td>\n",
       "      <td>0</td>\n",
       "      <td>0</td>\n",
       "      <td>0</td>\n",
       "      <td>...</td>\n",
       "      <td>150</td>\n",
       "      <td>99</td>\n",
       "      <td>87</td>\n",
       "      <td>237</td>\n",
       "      <td>141</td>\n",
       "      <td>64</td>\n",
       "      <td>69</td>\n",
       "      <td>171</td>\n",
       "      <td>128</td>\n",
       "      <td>1</td>\n",
       "    </tr>\n",
       "  </tbody>\n",
       "</table>\n",
       "<p>1 rows × 1026 columns</p>\n",
       "</div>"
      ],
      "text/plain": [
       "                                                hash   0   1    2    3   4  5  \\\n",
       "0  ed01ebfbc9eb5bbea545af4d01bf5f1071661840480439...  77  14  224  164  65  4   \n",
       "\n",
       "   6  7  8  ...  1015  1016  1017  1018  1019  1020  1021  1022  1023  malware  \n",
       "0  0  0  0  ...   150    99    87   237   141    64    69   171   128        1  \n",
       "\n",
       "[1 rows x 1026 columns]"
      ]
     },
     "execution_count": 31,
     "metadata": {},
     "output_type": "execute_result"
    }
   ],
   "source": [
    "df.head()"
   ]
  },
  {
   "cell_type": "code",
   "execution_count": 32,
   "metadata": {},
   "outputs": [
    {
     "name": "stdout",
     "output_type": "stream",
     "text": [
      "<class 'pandas.core.frame.DataFrame'>\n",
      "RangeIndex: 1 entries, 0 to 0\n",
      "Columns: 1026 entries, hash to malware\n",
      "dtypes: int64(1025), object(1)\n",
      "memory usage: 8.1+ KB\n"
     ]
    }
   ],
   "source": [
    "df.info()"
   ]
  },
  {
   "cell_type": "code",
   "execution_count": 33,
   "metadata": {},
   "outputs": [],
   "source": [
    "X = df.values[:, 1:1025].astype('uint8')"
   ]
  },
  {
   "cell_type": "code",
   "execution_count": 34,
   "metadata": {},
   "outputs": [
    {
     "data": {
      "text/plain": [
       "(1, 1024)"
      ]
     },
     "execution_count": 34,
     "metadata": {},
     "output_type": "execute_result"
    }
   ],
   "source": [
    "X.shape"
   ]
  },
  {
   "cell_type": "code",
   "execution_count": 35,
   "metadata": {},
   "outputs": [
    {
     "data": {
      "text/plain": [
       "array([[ 77,  14, 224, ...,  69, 171, 128]], dtype=uint8)"
      ]
     },
     "execution_count": 35,
     "metadata": {},
     "output_type": "execute_result"
    }
   ],
   "source": [
    "X"
   ]
  },
  {
   "cell_type": "code",
   "execution_count": 36,
   "metadata": {},
   "outputs": [
    {
     "data": {
      "text/plain": [
       "<matplotlib.image.AxesImage at 0x7f883cbca350>"
      ]
     },
     "execution_count": 36,
     "metadata": {},
     "output_type": "execute_result"
    },
    {
     "data": {
      "image/png": "[encoded data removed]",
      "text/plain": [
       "<matplotlib.figure.Figure at 0x7f884878c490>"
      ]
     },
     "metadata": {
      "needs_background": "light"
     },
     "output_type": "display_data"
    }
   ],
   "source": [
    "plt.imshow(X.reshape(32, 32), cmap = 'gray', vmin = 0, vmax = 255)"
   ]
  },
  {
   "cell_type": "code",
   "execution_count": 26,
   "metadata": {},
   "outputs": [],
   "source": [
    "df = pd.read_csv('/home/angelo/Desktop/CNN_data/goodware_images.csv')"
   ]
  },
  {
   "cell_type": "code",
   "execution_count": 27,
   "metadata": {},
   "outputs": [
    {
     "data": {
      "text/html": [
       "<div>\n",
       "<style scoped>\n",
       "    .dataframe tbody tr th:only-of-type {\n",
       "        vertical-align: middle;\n",
       "    }\n",
       "\n",
       "    .dataframe tbody tr th {\n",
       "        vertical-align: top;\n",
       "    }\n",
       "\n",
       "    .dataframe thead th {\n",
       "        text-align: right;\n",
       "    }\n",
       "</style>\n",
       "<table border=\"1\" class=\"dataframe\">\n",
       "  <thead>\n",
       "    <tr style=\"text-align: right;\">\n",
       "      <th></th>\n",
       "      <th>pix_0</th>\n",
       "      <th>pix_1</th>\n",
       "      <th>pix_2</th>\n",
       "      <th>pix_3</th>\n",
       "      <th>pix_4</th>\n",
       "      <th>pix_5</th>\n",
       "      <th>pix_6</th>\n",
       "      <th>pix_7</th>\n",
       "      <th>pix_8</th>\n",
       "      <th>pix_9</th>\n",
       "      <th>...</th>\n",
       "      <th>pix_1015</th>\n",
       "      <th>pix_1016</th>\n",
       "      <th>pix_1017</th>\n",
       "      <th>pix_1018</th>\n",
       "      <th>pix_1019</th>\n",
       "      <th>pix_1020</th>\n",
       "      <th>pix_1021</th>\n",
       "      <th>pix_1022</th>\n",
       "      <th>pix_1023</th>\n",
       "      <th>malware</th>\n",
       "    </tr>\n",
       "  </thead>\n",
       "  <tbody>\n",
       "    <tr>\n",
       "      <th>0</th>\n",
       "      <td>0</td>\n",
       "      <td>21</td>\n",
       "      <td>0</td>\n",
       "      <td>0</td>\n",
       "      <td>0</td>\n",
       "      <td>18</td>\n",
       "      <td>0</td>\n",
       "      <td>0</td>\n",
       "      <td>0</td>\n",
       "      <td>83</td>\n",
       "      <td>...</td>\n",
       "      <td>221</td>\n",
       "      <td>121</td>\n",
       "      <td>190</td>\n",
       "      <td>4</td>\n",
       "      <td>13</td>\n",
       "      <td>35</td>\n",
       "      <td>36</td>\n",
       "      <td>49</td>\n",
       "      <td>228</td>\n",
       "      <td>0</td>\n",
       "    </tr>\n",
       "    <tr>\n",
       "      <th>1</th>\n",
       "      <td>199</td>\n",
       "      <td>15</td>\n",
       "      <td>104</td>\n",
       "      <td>0</td>\n",
       "      <td>0</td>\n",
       "      <td>80</td>\n",
       "      <td>255</td>\n",
       "      <td>251</td>\n",
       "      <td>69</td>\n",
       "      <td>102</td>\n",
       "      <td>...</td>\n",
       "      <td>48</td>\n",
       "      <td>49</td>\n",
       "      <td>49</td>\n",
       "      <td>64</td>\n",
       "      <td>180</td>\n",
       "      <td>57</td>\n",
       "      <td>58</td>\n",
       "      <td>12</td>\n",
       "      <td>204</td>\n",
       "      <td>0</td>\n",
       "    </tr>\n",
       "    <tr>\n",
       "      <th>2</th>\n",
       "      <td>2</td>\n",
       "      <td>115</td>\n",
       "      <td>115</td>\n",
       "      <td>132</td>\n",
       "      <td>0</td>\n",
       "      <td>0</td>\n",
       "      <td>0</td>\n",
       "      <td>10</td>\n",
       "      <td>125</td>\n",
       "      <td>169</td>\n",
       "      <td>...</td>\n",
       "      <td>121</td>\n",
       "      <td>0</td>\n",
       "      <td>101</td>\n",
       "      <td>115</td>\n",
       "      <td>0</td>\n",
       "      <td>101</td>\n",
       "      <td>0</td>\n",
       "      <td>0</td>\n",
       "      <td>0</td>\n",
       "      <td>0</td>\n",
       "    </tr>\n",
       "    <tr>\n",
       "      <th>3</th>\n",
       "      <td>145</td>\n",
       "      <td>255</td>\n",
       "      <td>255</td>\n",
       "      <td>255</td>\n",
       "      <td>123</td>\n",
       "      <td>255</td>\n",
       "      <td>106</td>\n",
       "      <td>255</td>\n",
       "      <td>108</td>\n",
       "      <td>255</td>\n",
       "      <td>...</td>\n",
       "      <td>0</td>\n",
       "      <td>0</td>\n",
       "      <td>0</td>\n",
       "      <td>0</td>\n",
       "      <td>0</td>\n",
       "      <td>0</td>\n",
       "      <td>0</td>\n",
       "      <td>0</td>\n",
       "      <td>0</td>\n",
       "      <td>0</td>\n",
       "    </tr>\n",
       "    <tr>\n",
       "      <th>4</th>\n",
       "      <td>46</td>\n",
       "      <td>8</td>\n",
       "      <td>255</td>\n",
       "      <td>137</td>\n",
       "      <td>240</td>\n",
       "      <td>117</td>\n",
       "      <td>120</td>\n",
       "      <td>83</td>\n",
       "      <td>116</td>\n",
       "      <td>131</td>\n",
       "      <td>...</td>\n",
       "      <td>5</td>\n",
       "      <td>175</td>\n",
       "      <td>180</td>\n",
       "      <td>130</td>\n",
       "      <td>130</td>\n",
       "      <td>7</td>\n",
       "      <td>13</td>\n",
       "      <td>175</td>\n",
       "      <td>159</td>\n",
       "      <td>0</td>\n",
       "    </tr>\n",
       "  </tbody>\n",
       "</table>\n",
       "<p>5 rows × 1025 columns</p>\n",
       "</div>"
      ],
      "text/plain": [
       "   pix_0  pix_1  pix_2  pix_3  pix_4  pix_5  pix_6  pix_7  pix_8  pix_9  ...  \\\n",
       "0      0     21      0      0      0     18      0      0      0     83  ...   \n",
       "1    199     15    104      0      0     80    255    251     69    102  ...   \n",
       "2      2    115    115    132      0      0      0     10    125    169  ...   \n",
       "3    145    255    255    255    123    255    106    255    108    255  ...   \n",
       "4     46      8    255    137    240    117    120     83    116    131  ...   \n",
       "\n",
       "   pix_1015  pix_1016  pix_1017  pix_1018  pix_1019  pix_1020  pix_1021  \\\n",
       "0       221       121       190         4        13        35        36   \n",
       "1        48        49        49        64       180        57        58   \n",
       "2       121         0       101       115         0       101         0   \n",
       "3         0         0         0         0         0         0         0   \n",
       "4         5       175       180       130       130         7        13   \n",
       "\n",
       "   pix_1022  pix_1023  malware  \n",
       "0        49       228        0  \n",
       "1        12       204        0  \n",
       "2         0         0        0  \n",
       "3         0         0        0  \n",
       "4       175       159        0  \n",
       "\n",
       "[5 rows x 1025 columns]"
      ]
     },
     "execution_count": 27,
     "metadata": {},
     "output_type": "execute_result"
    }
   ],
   "source": [
    "df.head()"
   ]
  },
  {
   "cell_type": "code",
   "execution_count": 28,
   "metadata": {},
   "outputs": [],
   "source": [
    "df.drop(['malware'], axis = 1, inplace = True)"
   ]
  },
  {
   "cell_type": "code",
   "execution_count": 33,
   "metadata": {},
   "outputs": [],
   "source": [
    "x = df.values[0, 0:1024].astype('uint8')"
   ]
  },
  {
   "cell_type": "code",
   "execution_count": 34,
   "metadata": {},
   "outputs": [
    {
     "data": {
      "text/plain": [
       "(1024,)"
      ]
     },
     "execution_count": 34,
     "metadata": {},
     "output_type": "execute_result"
    }
   ],
   "source": [
    "x.shape"
   ]
  },
  {
   "cell_type": "code",
   "execution_count": 35,
   "metadata": {},
   "outputs": [
    {
     "data": {
      "text/plain": [
       "<matplotlib.image.AxesImage at 0x7fda3e783668>"
      ]
     },
     "execution_count": 35,
     "metadata": {},
     "output_type": "execute_result"
    },
    {
     "data": {
      "image/png": "[encoded data removed]",
      "text/plain": [
       "<Figure size 432x288 with 1 Axes>"
      ]
     },
     "metadata": {
      "needs_background": "light"
     },
     "output_type": "display_data"
    }
   ],
   "source": [
    "plt.imshow(x.reshape(32, 32), cmap = 'gray', vmin = 0, vmax = 255)"
   ]
  }
 ],
 "metadata": {
  "kernelspec": {
   "display_name": "Python 3",
   "language": "python",
   "name": "python3"
  },
  "language_info": {
   "codemirror_mode": {
    "name": "ipython",
    "version": 3
   },
   "file_extension": ".py",
   "mimetype": "text/x-python",
   "name": "python",
   "nbconvert_exporter": "python",
   "pygments_lexer": "ipython3",
   "version": "3.7.3"
  }
 },
 "nbformat": 4,
 "nbformat_minor": 2
}
